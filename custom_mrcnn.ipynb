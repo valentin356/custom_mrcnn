{
  "nbformat": 4,
  "nbformat_minor": 0,
  "metadata": {
    "colab": {
      "name": "custom_mrcnn.ipynb",
      "provenance": [],
      "collapsed_sections": []
    },
    "kernelspec": {
      "name": "python3",
      "display_name": "Python 3"
    },
    "accelerator": "GPU"
  },
  "cells": [
    {
      "cell_type": "markdown",
      "metadata": {
        "id": "R3ZtNulT0KQz",
        "colab_type": "text"
      },
      "source": [
        "# **Package management**"
      ]
    },
    {
      "cell_type": "markdown",
      "metadata": {
        "id": "wXGQFv58khqC",
        "colab_type": "text"
      },
      "source": [
        "Install Conda"
      ]
    },
    {
      "cell_type": "code",
      "metadata": {
        "id": "-wXKRUODkY0T",
        "colab_type": "code",
        "colab": {}
      },
      "source": [
        "!wget -c https://repo.continuum.io/archive/Anaconda3-5.1.0-Linux-x86_64.sh\n",
        "!chmod +x Anaconda3-5.1.0-Linux-x86_64.sh\n",
        "!bash ./Anaconda3-5.1.0-Linux-x86_64.sh -b -f -p /usr/local"
      ],
      "execution_count": 0,
      "outputs": []
    },
    {
      "cell_type": "markdown",
      "metadata": {
        "id": "sph5Klg1lDrR",
        "colab_type": "text"
      },
      "source": [
        "Create conda environment"
      ]
    },
    {
      "cell_type": "code",
      "metadata": {
        "id": "KvfCgV2Ikmdl",
        "colab_type": "code",
        "colab": {}
      },
      "source": [
        "!conda create -n myenv python=3.6.4"
      ],
      "execution_count": 0,
      "outputs": []
    },
    {
      "cell_type": "code",
      "metadata": {
        "id": "HdWPs4rclwIJ",
        "colab_type": "code",
        "colab": {}
      },
      "source": [
        "!source activate myenv"
      ],
      "execution_count": 0,
      "outputs": []
    },
    {
      "cell_type": "markdown",
      "metadata": {
        "id": "UdzJ1K8Kl3Os",
        "colab_type": "text"
      },
      "source": [
        "Install mrcnn requirements"
      ]
    },
    {
      "cell_type": "code",
      "metadata": {
        "id": "X-Cu0bfaqsxi",
        "colab_type": "code",
        "colab": {}
      },
      "source": [
        "!conda install numpy scipy Pillow cython matplotlib scikit-image opencv h5py IPython[all] tensorboard python==3.6.4 tensorflow==2.0 tensorflow-gpu==2.0 python==3.6.4"
      ],
      "execution_count": 0,
      "outputs": []
    },
    {
      "cell_type": "code",
      "metadata": {
        "id": "mdNOSewfpFqR",
        "colab_type": "code",
        "colab": {}
      },
      "source": [
        "!rm -r /content/custom_mrcnn #if cloned before\n",
        "!git clone https://github.com/valentin356/custom_mrcnn.git"
      ],
      "execution_count": 0,
      "outputs": []
    },
    {
      "cell_type": "code",
      "metadata": {
        "id": "tJ7YzkHHpSY6",
        "colab_type": "code",
        "colab": {}
      },
      "source": [
        "!cp -r /content/custom_mrcnn/mrcnn /usr/local/envs/myenv/lib/python3.6/site-packages\n",
        "!cp -r /content/custom_mrcnn/mrcnn /usr/local/lib/python3.6/dist-packages\n",
        "!rm -r /usr/local/lib/python3.6/dist-packages/tensorflow/python/keras/layers/core.py\n",
        "!cp -r /content/custom_mrcnn/core.py /usr/local/lib/python3.6/dist-packages/tensorflow/python/keras/layers/core.py"
      ],
      "execution_count": 0,
      "outputs": []
    },
    {
      "cell_type": "markdown",
      "metadata": {
        "id": "yB2RqcJiH0JP",
        "colab_type": "text"
      },
      "source": [
        "Get dataset"
      ]
    },
    {
      "cell_type": "code",
      "metadata": {
        "id": "nQT7tjC4DrFw",
        "colab_type": "code",
        "colab": {}
      },
      "source": [
        "from google.colab import drive\n",
        "drive.mount('/content/drive')"
      ],
      "execution_count": 0,
      "outputs": []
    },
    {
      "cell_type": "code",
      "metadata": {
        "id": "i__iR0d6BysF",
        "colab_type": "code",
        "colab": {}
      },
      "source": [
        "!cp -r \"/content/drive/My Drive/dataset\" /content/dataset\n",
        "!rm -r \"/content/dataset/dataset\"\n",
        "!rm -r \"/content/dataset/logs\"\n",
        "!rm -r \"/content/dataset/train\"\n",
        "!rm -r \"/content/dataset/val\"\n",
        "!cp -r \"/content/custom_mrcnn/dataset1/train\" /content/dataset/train/\n",
        "!cp -r \"/content/custom_mrcnn/dataset1/val\" /content/dataset/val/"
      ],
      "execution_count": 0,
      "outputs": []
    },
    {
      "cell_type": "markdown",
      "metadata": {
        "id": "vfkRQYNg0G_n",
        "colab_type": "text"
      },
      "source": [
        "\n",
        "\n",
        "---\n",
        "\n"
      ]
    },
    {
      "cell_type": "markdown",
      "metadata": {
        "id": "DJ_otmYm0I_y",
        "colab_type": "text"
      },
      "source": [
        "# **MRCNN**"
      ]
    },
    {
      "cell_type": "markdown",
      "metadata": {
        "id": "6ExeqJxO1TkV",
        "colab_type": "text"
      },
      "source": [
        "Import modules, set config"
      ]
    },
    {
      "cell_type": "code",
      "metadata": {
        "id": "-X8WTli4DHMz",
        "colab_type": "code",
        "colab": {}
      },
      "source": [
        "import os\n",
        "import sys\n",
        "import json\n",
        "import datetime\n",
        "import tensorflow.compat.v1 as tf\n",
        "import numpy as np\n",
        "import skimage.draw\n",
        "import cv2\n",
        "from mrcnn.visualize import display_instances\n",
        "import matplotlib.pyplot as plt"
      ],
      "execution_count": 0,
      "outputs": []
    },
    {
      "cell_type": "code",
      "metadata": {
        "id": "-WAWukGj1h6R",
        "colab_type": "code",
        "colab": {}
      },
      "source": [
        "from mrcnn.config import Config\n",
        "from mrcnn import model as modellib, utils\n",
        "ROOT_DIR = os.path.abspath(\"/content/dataset\")\n",
        "\n",
        "sys.path.append(ROOT_DIR)\n",
        "COCO_WEIGHTS_PATH = os.path.join(ROOT_DIR, \"pretrained.h5\")\n",
        "DEFAULT_LOGS_DIR = os.path.join(ROOT_DIR, \"logs\")\n",
        "train_dir = \"/content/dataset/train\"\n",
        "val_dir = \"/content/dataset/val\""
      ],
      "execution_count": 0,
      "outputs": []
    },
    {
      "cell_type": "markdown",
      "metadata": {
        "id": "L_6b-iMO199q",
        "colab_type": "text"
      },
      "source": [
        "Setup custom config"
      ]
    },
    {
      "cell_type": "code",
      "metadata": {
        "id": "D_fBs1Rl2A30",
        "colab_type": "code",
        "colab": {}
      },
      "source": [
        "class CustomConfig(Config):\n",
        "    # Give the configuration a recognizable name\n",
        "    NAME = \"sign\"\n",
        "\n",
        "    # Adjust down if you use a smaller GPU.\n",
        "    IMAGES_PER_GPU = 1\n",
        "\n",
        "    # Number of classes (including background)\n",
        "    NUM_CLASSES = 1 + 1  # Background + toy\n",
        "\n",
        "    # Number of training steps per epoch\n",
        "    STEPS_PER_EPOCH = 1000\n",
        "\n",
        "    # Skip detections with < 80% confidence\n",
        "    DETECTION_MIN_CONFIDENCE = 0.8"
      ],
      "execution_count": 0,
      "outputs": []
    },
    {
      "cell_type": "markdown",
      "metadata": {
        "id": "vDqfYigU2V1b",
        "colab_type": "text"
      },
      "source": [
        "Load custom dataset, train model"
      ]
    },
    {
      "cell_type": "code",
      "metadata": {
        "id": "GL7hOU532HzL",
        "colab_type": "code",
        "colab": {}
      },
      "source": [
        "class CustomDataset(utils.Dataset):\n",
        "    def load_custom(self, dataset_dir, subset):\n",
        "            \"\"\"Load a subset of the bottle dataset.\n",
        "            dataset_dir: Root directory of the dataset.\n",
        "            subset: Subset to load: train or val\n",
        "            \"\"\"\n",
        "            # Add classes. We have only one class to add.\n",
        "            self.add_class(\"sign\", 1, \"sign\")\n",
        "\n",
        "            # Train or validation dataset?\n",
        "            assert subset in [\"train\", \"val\"]\n",
        "            dataset_dir = os.path.join(dataset_dir, subset)\n",
        "\n",
        "            # Load annotations\n",
        "            # VGG Image Annotator saves each image in the form:\n",
        "            # { 'filename': '28503151_5b5b7ec140_b.jpg',\n",
        "            #   'regions': {\n",
        "            #       '0': {\n",
        "            #           'region_attributes': {},\n",
        "            #           'shape_attributes': {\n",
        "            #               'all_points_x': [...],\n",
        "            #               'all_points_y': [...],\n",
        "            #               'name': 'polygon'}},\n",
        "            #       ... more regions ...\n",
        "            #   },\n",
        "            #   'size': 100202\n",
        "            # }\n",
        "            # We mostly care about the x and y coordinates of each region\n",
        "            annotations1 = json.load(open(os.path.join(dataset_dir, \"ann.json\"),\"r\"))\n",
        "            # print(annotations1)\n",
        "            annotations = list(annotations1.values())  # don't need the dict keys\n",
        "\n",
        "            # The VIA tool saves images in the JSON even if they don't have any\n",
        "            # annotations. Skip unannotated images.\n",
        "            annotations = [a for a in annotations if a['regions']]\n",
        "\n",
        "            # Add images\n",
        "            for a in annotations:\n",
        "                # print(a)\n",
        "                # Get the x, y coordinaets of points of the polygons that make up\n",
        "                # the outline of each object instance. There are stores in the\n",
        "                # shape_attributes (see json format above)\n",
        "                polygons = [r['shape_attributes'] for r in a['regions'].values()]\n",
        "\n",
        "                # load_mask() needs the image size to convert polygons to masks.\n",
        "                # Unfortunately, VIA doesn't include it in JSON, so we must read\n",
        "                # the image. This is only managable since the dataset is tiny.\n",
        "                image_path = os.path.join(dataset_dir, a['filename'])\n",
        "                image = skimage.io.imread(image_path)\n",
        "                height, width = image.shape[:2]\n",
        "\n",
        "                self.add_image(\n",
        "                    \"sign\",  ## for a single class just add the name here\n",
        "                    image_id=a['filename'],  # use file name as a unique image id\n",
        "                    path=image_path,\n",
        "                    width=width, height=height,\n",
        "                    polygons=polygons)\n",
        "                \n",
        "    def load_mask(self, image_id):\n",
        "        \"\"\"Generate instance masks for an image.\n",
        "       Returns:\n",
        "        masks: A bool array of shape [height, width, instance count] with\n",
        "            one mask per instance.\n",
        "        class_ids: a 1D array of class IDs of the instance masks.\n",
        "        \"\"\"\n",
        "        # If not a bottle dataset image, delegate to parent class.\n",
        "        image_info = self.image_info[image_id]\n",
        "        if image_info[\"source\"] != \"sign\":\n",
        "            return super(self.__class__, self).load_mask(image_id)\n",
        "\n",
        "        # Convert polygons to a bitmap mask of shape\n",
        "        # [height, width, instance_count]\n",
        "        info = self.image_info[image_id]\n",
        "        mask = np.zeros([info[\"height\"], info[\"width\"], len(info[\"polygons\"])],\n",
        "                        dtype=np.uint8)\n",
        "        for i, p in enumerate(info[\"polygons\"]):\n",
        "            # Get indexes of pixels inside the polygon and set them to 1\n",
        "            rr, cc = skimage.draw.polygon(p['all_points_y'], p['all_points_x'])\n",
        "            mask[rr, cc, i] = 1\n",
        "\n",
        "        # Return mask, and array of class IDs of each instance. Since we have\n",
        "        # one class ID only, we return an array of 1s\n",
        "        return mask.astype(np.bool), np.ones([mask.shape[-1]], dtype=np.int32)\n",
        "    def image_reference(self, image_id):\n",
        "        \"\"\"Return the path of the image.\"\"\"\n",
        "        info = self.image_info[image_id]\n",
        "        if info[\"source\"] == \"sign\":\n",
        "            return info[\"path\"]\n",
        "        else:\n",
        "            super(self.__class__, self).image_reference(image_id)"
      ],
      "execution_count": 0,
      "outputs": []
    },
    {
      "cell_type": "code",
      "metadata": {
        "id": "EdXp5qee2eVF",
        "colab_type": "code",
        "colab": {}
      },
      "source": [
        "def train(model):\n",
        "    \"\"\"Train the model.\"\"\"\n",
        "    # Training dataset.\n",
        "    dataset_train = CustomDataset()\n",
        "    dataset_train.load_custom(\"dataset\", \"train\")\n",
        "    dataset_train.prepare()\n",
        "\n",
        "    # Validation dataset\n",
        "    dataset_val = CustomDataset()\n",
        "    dataset_val.load_custom(\"dataset\", \"val\")\n",
        "    dataset_val.prepare()\n",
        "\n",
        "    # *** This training schedule is an example. Update to your needs ***\n",
        "    # Since we're using a very small dataset, and starting from\n",
        "    # COCO trained weights, we don't need to train too long. Also,\n",
        "    # no need to train all layers, just the heads should do it.\n",
        "    print(\"Training network heads\")\n",
        "    model.train(dataset_train, dataset_val,\n",
        "                learning_rate=config.LEARNING_RATE,\n",
        "                epochs=5,\n",
        "                layers='heads')"
      ],
      "execution_count": 0,
      "outputs": []
    },
    {
      "cell_type": "code",
      "metadata": {
        "id": "JiJYNs3P3EYX",
        "colab_type": "code",
        "outputId": "c066ccad-a593-44df-cbcd-cbb7b15cede5",
        "colab": {
          "base_uri": "https://localhost:8080/",
          "height": 862
        }
      },
      "source": [
        "config = CustomConfig()\n",
        "config.display()\n",
        "\n",
        "model = modellib.MaskRCNN(mode=\"training\", config=config, model_dir=DEFAULT_LOGS_DIR)\n",
        "\n",
        "weights_path = COCO_WEIGHTS_PATH\n",
        "\n",
        "model.load_weights(weights_path, by_name=True, exclude=[\n",
        "        \"mrcnn_class_logits\", \"mrcnn_bbox_fc\",\n",
        "        \"mrcnn_bbox\", \"mrcnn_mask\"])\n",
        "#train(model)"
      ],
      "execution_count": 0,
      "outputs": [
        {
          "output_type": "stream",
          "text": [
            "\n",
            "Configurations:\n",
            "BACKBONE                       resnet101\n",
            "BACKBONE_STRIDES               [4, 8, 16, 32, 64]\n",
            "BATCH_SIZE                     1\n",
            "BBOX_STD_DEV                   [0.1 0.1 0.2 0.2]\n",
            "COMPUTE_BACKBONE_SHAPE         None\n",
            "DETECTION_MAX_INSTANCES        100\n",
            "DETECTION_MIN_CONFIDENCE       0.0001\n",
            "DETECTION_NMS_THRESHOLD        0.3\n",
            "FPN_CLASSIF_FC_LAYERS_SIZE     1024\n",
            "GPU_COUNT                      1\n",
            "GRADIENT_CLIP_NORM             5.0\n",
            "IMAGES_PER_GPU                 1\n",
            "IMAGE_CHANNEL_COUNT            3\n",
            "IMAGE_MAX_DIM                  1024\n",
            "IMAGE_META_SIZE                14\n",
            "IMAGE_MIN_DIM                  800\n",
            "IMAGE_MIN_SCALE                0\n",
            "IMAGE_RESIZE_MODE              square\n",
            "IMAGE_SHAPE                    [1024 1024    3]\n",
            "LEARNING_MOMENTUM              0.9\n",
            "LEARNING_RATE                  0.001\n",
            "LOSS_WEIGHTS                   {'rpn_class_loss': 1.0, 'rpn_bbox_loss': 1.0, 'mrcnn_class_loss': 1.0, 'mrcnn_bbox_loss': 1.0, 'mrcnn_mask_loss': 1.0}\n",
            "MASK_POOL_SIZE                 14\n",
            "MASK_SHAPE                     [28, 28]\n",
            "MAX_GT_INSTANCES               100\n",
            "MEAN_PIXEL                     [123.7 116.8 103.9]\n",
            "MINI_MASK_SHAPE                (56, 56)\n",
            "NAME                           sign\n",
            "NUM_CLASSES                    2\n",
            "POOL_SIZE                      7\n",
            "POST_NMS_ROIS_INFERENCE        1000\n",
            "POST_NMS_ROIS_TRAINING         2000\n",
            "PRE_NMS_LIMIT                  6000\n",
            "ROI_POSITIVE_RATIO             0.33\n",
            "RPN_ANCHOR_RATIOS              [0.5, 1, 2]\n",
            "RPN_ANCHOR_SCALES              (32, 64, 128, 256, 512)\n",
            "RPN_ANCHOR_STRIDE              1\n",
            "RPN_BBOX_STD_DEV               [0.1 0.1 0.2 0.2]\n",
            "RPN_NMS_THRESHOLD              0.7\n",
            "RPN_TRAIN_ANCHORS_PER_IMAGE    256\n",
            "STEPS_PER_EPOCH                1000\n",
            "TOP_DOWN_PYRAMID_SIZE          256\n",
            "TRAIN_BN                       False\n",
            "TRAIN_ROIS_PER_IMAGE           200\n",
            "USE_MINI_MASK                  True\n",
            "USE_RPN_ROIS                   True\n",
            "VALIDATION_STEPS               50\n",
            "WEIGHT_DECAY                   0.0001\n",
            "\n",
            "\n"
          ],
          "name": "stdout"
        }
      ]
    },
    {
      "cell_type": "markdown",
      "metadata": {
        "id": "iJ3WuOM0Q8IP",
        "colab_type": "text"
      },
      "source": [
        "\n",
        "\n",
        "---\n",
        "\n"
      ]
    },
    {
      "cell_type": "markdown",
      "metadata": {
        "id": "1qR_HnkHQ9sM",
        "colab_type": "text"
      },
      "source": [
        "# **Detect objects on images**\n",
        "\n",
        "\n"
      ]
    },
    {
      "cell_type": "code",
      "metadata": {
        "id": "c4_hcQ_AROAS",
        "colab_type": "code",
        "outputId": "30cace2f-1602-472b-9eb7-176422de776f",
        "colab": {
          "base_uri": "https://localhost:8080/",
          "height": 862
        }
      },
      "source": [
        "import os\n",
        "import sys\n",
        "import random\n",
        "import math\n",
        "import numpy as np\n",
        "import skimage.io\n",
        "import matplotlib\n",
        "import matplotlib.pyplot as plt\n",
        "\n",
        "# Root directory of the project\n",
        "ROOT_DIR = os.path.abspath(\"/content\")\n",
        "\n",
        "# Import Mask RCNN\n",
        "sys.path.append(ROOT_DIR)  # To find local version of the library\n",
        "from mrcnn import utils\n",
        "import mrcnn.model as modellib\n",
        "from mrcnn import visualize\n",
        "\n",
        "%matplotlib inline \n",
        "\n",
        "# Directory to save logs and trained model\n",
        "MODEL_DIR = os.path.join(ROOT_DIR, \"logs\")\n",
        "\n",
        "# Local path to trained weights file\n",
        "COCO_MODEL_PATH = os.path.join(\"/content/dataset/logs/sign20200411T1324\", \"mask_rcnn_sign_0002.h5\")\n",
        "\n",
        "# Directory of images to run detection on\n",
        "IMAGE_DIR = os.path.join(ROOT_DIR, \"images\")\n",
        "\n",
        "config.display()"
      ],
      "execution_count": 0,
      "outputs": [
        {
          "output_type": "stream",
          "text": [
            "\n",
            "Configurations:\n",
            "BACKBONE                       resnet101\n",
            "BACKBONE_STRIDES               [4, 8, 16, 32, 64]\n",
            "BATCH_SIZE                     1\n",
            "BBOX_STD_DEV                   [0.1 0.1 0.2 0.2]\n",
            "COMPUTE_BACKBONE_SHAPE         None\n",
            "DETECTION_MAX_INSTANCES        100\n",
            "DETECTION_MIN_CONFIDENCE       0.0001\n",
            "DETECTION_NMS_THRESHOLD        0.3\n",
            "FPN_CLASSIF_FC_LAYERS_SIZE     1024\n",
            "GPU_COUNT                      1\n",
            "GRADIENT_CLIP_NORM             5.0\n",
            "IMAGES_PER_GPU                 1\n",
            "IMAGE_CHANNEL_COUNT            3\n",
            "IMAGE_MAX_DIM                  1024\n",
            "IMAGE_META_SIZE                14\n",
            "IMAGE_MIN_DIM                  800\n",
            "IMAGE_MIN_SCALE                0\n",
            "IMAGE_RESIZE_MODE              square\n",
            "IMAGE_SHAPE                    [1024 1024    3]\n",
            "LEARNING_MOMENTUM              0.9\n",
            "LEARNING_RATE                  0.001\n",
            "LOSS_WEIGHTS                   {'rpn_class_loss': 1.0, 'rpn_bbox_loss': 1.0, 'mrcnn_class_loss': 1.0, 'mrcnn_bbox_loss': 1.0, 'mrcnn_mask_loss': 1.0}\n",
            "MASK_POOL_SIZE                 14\n",
            "MASK_SHAPE                     [28, 28]\n",
            "MAX_GT_INSTANCES               100\n",
            "MEAN_PIXEL                     [123.7 116.8 103.9]\n",
            "MINI_MASK_SHAPE                (56, 56)\n",
            "NAME                           sign\n",
            "NUM_CLASSES                    2\n",
            "POOL_SIZE                      7\n",
            "POST_NMS_ROIS_INFERENCE        1000\n",
            "POST_NMS_ROIS_TRAINING         2000\n",
            "PRE_NMS_LIMIT                  6000\n",
            "ROI_POSITIVE_RATIO             0.33\n",
            "RPN_ANCHOR_RATIOS              [0.5, 1, 2]\n",
            "RPN_ANCHOR_SCALES              (32, 64, 128, 256, 512)\n",
            "RPN_ANCHOR_STRIDE              1\n",
            "RPN_BBOX_STD_DEV               [0.1 0.1 0.2 0.2]\n",
            "RPN_NMS_THRESHOLD              0.7\n",
            "RPN_TRAIN_ANCHORS_PER_IMAGE    256\n",
            "STEPS_PER_EPOCH                1000\n",
            "TOP_DOWN_PYRAMID_SIZE          256\n",
            "TRAIN_BN                       False\n",
            "TRAIN_ROIS_PER_IMAGE           200\n",
            "USE_MINI_MASK                  True\n",
            "USE_RPN_ROIS                   True\n",
            "VALIDATION_STEPS               50\n",
            "WEIGHT_DECAY                   0.0001\n",
            "\n",
            "\n"
          ],
          "name": "stdout"
        }
      ]
    },
    {
      "cell_type": "code",
      "metadata": {
        "id": "7KLg82_-Wi-h",
        "colab_type": "code",
        "colab": {}
      },
      "source": [
        "# Create model object in inference mode.\n",
        "model = modellib.MaskRCNN(mode=\"inference\", model_dir=MODEL_DIR, config=config)\n",
        "\n",
        "# Load weights trained on MS-COCO\n",
        "model.load_weights(COCO_MODEL_PATH, by_name=True)\n",
        "\n",
        "class_names = [\"background\", \"sign\"]\n",
        "\n",
        "# Load a random image from the images folder\n",
        "image = cv2.imread(os.path.join(IMAGE_DIR, \"kivagat2.tif\"))\n",
        "\n",
        "# Run detection\n",
        "results = model.detect([image], verbose=1)\n",
        "\n",
        "# Visualize results\n",
        "r = results[0]\n",
        "visualize.display_instances(image, r['rois'], r['masks'], r['class_ids'], \n",
        "                            class_names, r['scores'])"
      ],
      "execution_count": 0,
      "outputs": []
    }
  ]
}